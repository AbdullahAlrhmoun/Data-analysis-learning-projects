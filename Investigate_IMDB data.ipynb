{
 "cells": [
  {
   "cell_type": "markdown",
   "metadata": {},
   "source": [
    "\n",
    "# Project: Investigate a Dataset (TMDB movie data)\n",
    "\n",
    "## Table of Contents\n",
    "<ul>\n",
    "<li><a href=\"#problem\">Problem Understanding</a></li>\n",
    "<li><a href=\"#data\">Data Understanding</a></li>\n",
    "<li><a href=\"#wrangling\">Data Wrangling</a></li>\n",
    "<li><a href=\"#eda\">Exploratory Data Analysis</a></li>\n",
    "<li><a href=\"#conclusions\">Conclusions</a></li>\n",
    "</ul>"
   ]
  },
  {
   "cell_type": "markdown",
   "metadata": {},
   "source": [
    "<a id='intro'></a>\n",
    "## Introduction\n",
    "\n",
    "In this data analysis project, I am going to use Cross Industry Process for Data Mining (known as CRIPS-DM) as my guide to investigate TMDB movi\n",
    "e data."
   ]
  },
  {
   "cell_type": "markdown",
   "metadata": {},
   "source": [
    "<a id='problem'></a>\n",
    "## 1.Problem Understanding\n",
    "\n",
    "\n",
    "### 1.1 Objective \n",
    "TMDB movie data investigation \n",
    "\n",
    "### 1.2 Description\n",
    "The data that we are going to investigate is cleaned from data that available on Kaggle, which can offer us good opportunity to find out some interesting answers on people's movie selection behaviours and on the trends of movie making industry which can effects the business decision making."
   ]
  },
  {
   "cell_type": "markdown",
   "metadata": {},
   "source": [
    "<a id='data'></a>\n",
    "## 2. Data Understanding\n",
    "\n",
    "### 2.1 Import Libraries\n",
    "We need to import python libraries containing the necessary functionality we will need.\n",
    "\n"
   ]
  },
  {
   "cell_type": "code",
   "execution_count": 100,
   "metadata": {
    "collapsed": true
   },
   "outputs": [],
   "source": [
    "# data processing, scientific computing, and linear algebra \n",
    "import numpy as np\n",
    "import pandas as pd\n",
    "\n",
    "# Visualization\n",
    "import matplotlib as mpl\n",
    "import matplotlib.pyplot as plt\n",
    "import matplotlib.pylab as pylab\n",
    "import seaborn as sns\n",
    "\n",
    "# Configure visualizations\n",
    "%matplotlib inline"
   ]
  },
  {
   "cell_type": "markdown",
   "metadata": {},
   "source": [
    "### 2.2 Load data\n",
    "let's read in and take a look at the data."
   ]
  },
  {
   "cell_type": "code",
   "execution_count": 34,
   "metadata": {
    "collapsed": true
   },
   "outputs": [],
   "source": [
    "# get the csv files as a DataFrame\n",
    "tmdb_data = pd.read_csv(\"tmdb-movies.csv\")"
   ]
  },
  {
   "cell_type": "markdown",
   "metadata": {},
   "source": [
    "### 2.3 Basic statistics"
   ]
  },
  {
   "cell_type": "code",
   "execution_count": 35,
   "metadata": {},
   "outputs": [
    {
     "data": {
      "text/html": [
       "<div>\n",
       "<style>\n",
       "    .dataframe thead tr:only-child th {\n",
       "        text-align: right;\n",
       "    }\n",
       "\n",
       "    .dataframe thead th {\n",
       "        text-align: left;\n",
       "    }\n",
       "\n",
       "    .dataframe tbody tr th {\n",
       "        vertical-align: top;\n",
       "    }\n",
       "</style>\n",
       "<table border=\"1\" class=\"dataframe\">\n",
       "  <thead>\n",
       "    <tr style=\"text-align: right;\">\n",
       "      <th></th>\n",
       "      <th>id</th>\n",
       "      <th>imdb_id</th>\n",
       "      <th>popularity</th>\n",
       "      <th>budget</th>\n",
       "      <th>revenue</th>\n",
       "      <th>original_title</th>\n",
       "      <th>cast</th>\n",
       "      <th>homepage</th>\n",
       "      <th>director</th>\n",
       "      <th>tagline</th>\n",
       "      <th>...</th>\n",
       "      <th>overview</th>\n",
       "      <th>runtime</th>\n",
       "      <th>genres</th>\n",
       "      <th>production_companies</th>\n",
       "      <th>release_date</th>\n",
       "      <th>vote_count</th>\n",
       "      <th>vote_average</th>\n",
       "      <th>release_year</th>\n",
       "      <th>budget_adj</th>\n",
       "      <th>revenue_adj</th>\n",
       "    </tr>\n",
       "  </thead>\n",
       "  <tbody>\n",
       "    <tr>\n",
       "      <th>0</th>\n",
       "      <td>135397</td>\n",
       "      <td>tt0369610</td>\n",
       "      <td>32.985763</td>\n",
       "      <td>150000000</td>\n",
       "      <td>1513528810</td>\n",
       "      <td>Jurassic World</td>\n",
       "      <td>Chris Pratt|Bryce Dallas Howard|Irrfan Khan|Vi...</td>\n",
       "      <td>http://www.jurassicworld.com/</td>\n",
       "      <td>Colin Trevorrow</td>\n",
       "      <td>The park is open.</td>\n",
       "      <td>...</td>\n",
       "      <td>Twenty-two years after the events of Jurassic ...</td>\n",
       "      <td>124</td>\n",
       "      <td>Action|Adventure|Science Fiction|Thriller</td>\n",
       "      <td>Universal Studios|Amblin Entertainment|Legenda...</td>\n",
       "      <td>6/9/15</td>\n",
       "      <td>5562</td>\n",
       "      <td>6.5</td>\n",
       "      <td>2015</td>\n",
       "      <td>1.379999e+08</td>\n",
       "      <td>1.392446e+09</td>\n",
       "    </tr>\n",
       "    <tr>\n",
       "      <th>1</th>\n",
       "      <td>76341</td>\n",
       "      <td>tt1392190</td>\n",
       "      <td>28.419936</td>\n",
       "      <td>150000000</td>\n",
       "      <td>378436354</td>\n",
       "      <td>Mad Max: Fury Road</td>\n",
       "      <td>Tom Hardy|Charlize Theron|Hugh Keays-Byrne|Nic...</td>\n",
       "      <td>http://www.madmaxmovie.com/</td>\n",
       "      <td>George Miller</td>\n",
       "      <td>What a Lovely Day.</td>\n",
       "      <td>...</td>\n",
       "      <td>An apocalyptic story set in the furthest reach...</td>\n",
       "      <td>120</td>\n",
       "      <td>Action|Adventure|Science Fiction|Thriller</td>\n",
       "      <td>Village Roadshow Pictures|Kennedy Miller Produ...</td>\n",
       "      <td>5/13/15</td>\n",
       "      <td>6185</td>\n",
       "      <td>7.1</td>\n",
       "      <td>2015</td>\n",
       "      <td>1.379999e+08</td>\n",
       "      <td>3.481613e+08</td>\n",
       "    </tr>\n",
       "    <tr>\n",
       "      <th>2</th>\n",
       "      <td>262500</td>\n",
       "      <td>tt2908446</td>\n",
       "      <td>13.112507</td>\n",
       "      <td>110000000</td>\n",
       "      <td>295238201</td>\n",
       "      <td>Insurgent</td>\n",
       "      <td>Shailene Woodley|Theo James|Kate Winslet|Ansel...</td>\n",
       "      <td>http://www.thedivergentseries.movie/#insurgent</td>\n",
       "      <td>Robert Schwentke</td>\n",
       "      <td>One Choice Can Destroy You</td>\n",
       "      <td>...</td>\n",
       "      <td>Beatrice Prior must confront her inner demons ...</td>\n",
       "      <td>119</td>\n",
       "      <td>Adventure|Science Fiction|Thriller</td>\n",
       "      <td>Summit Entertainment|Mandeville Films|Red Wago...</td>\n",
       "      <td>3/18/15</td>\n",
       "      <td>2480</td>\n",
       "      <td>6.3</td>\n",
       "      <td>2015</td>\n",
       "      <td>1.012000e+08</td>\n",
       "      <td>2.716190e+08</td>\n",
       "    </tr>\n",
       "  </tbody>\n",
       "</table>\n",
       "<p>3 rows × 21 columns</p>\n",
       "</div>"
      ],
      "text/plain": [
       "       id    imdb_id  popularity     budget     revenue      original_title  \\\n",
       "0  135397  tt0369610   32.985763  150000000  1513528810      Jurassic World   \n",
       "1   76341  tt1392190   28.419936  150000000   378436354  Mad Max: Fury Road   \n",
       "2  262500  tt2908446   13.112507  110000000   295238201           Insurgent   \n",
       "\n",
       "                                                cast  \\\n",
       "0  Chris Pratt|Bryce Dallas Howard|Irrfan Khan|Vi...   \n",
       "1  Tom Hardy|Charlize Theron|Hugh Keays-Byrne|Nic...   \n",
       "2  Shailene Woodley|Theo James|Kate Winslet|Ansel...   \n",
       "\n",
       "                                         homepage          director  \\\n",
       "0                   http://www.jurassicworld.com/   Colin Trevorrow   \n",
       "1                     http://www.madmaxmovie.com/     George Miller   \n",
       "2  http://www.thedivergentseries.movie/#insurgent  Robert Schwentke   \n",
       "\n",
       "                      tagline      ...       \\\n",
       "0           The park is open.      ...        \n",
       "1          What a Lovely Day.      ...        \n",
       "2  One Choice Can Destroy You      ...        \n",
       "\n",
       "                                            overview runtime  \\\n",
       "0  Twenty-two years after the events of Jurassic ...     124   \n",
       "1  An apocalyptic story set in the furthest reach...     120   \n",
       "2  Beatrice Prior must confront her inner demons ...     119   \n",
       "\n",
       "                                      genres  \\\n",
       "0  Action|Adventure|Science Fiction|Thriller   \n",
       "1  Action|Adventure|Science Fiction|Thriller   \n",
       "2         Adventure|Science Fiction|Thriller   \n",
       "\n",
       "                                production_companies release_date vote_count  \\\n",
       "0  Universal Studios|Amblin Entertainment|Legenda...       6/9/15       5562   \n",
       "1  Village Roadshow Pictures|Kennedy Miller Produ...      5/13/15       6185   \n",
       "2  Summit Entertainment|Mandeville Films|Red Wago...      3/18/15       2480   \n",
       "\n",
       "   vote_average  release_year    budget_adj   revenue_adj  \n",
       "0           6.5          2015  1.379999e+08  1.392446e+09  \n",
       "1           7.1          2015  1.379999e+08  3.481613e+08  \n",
       "2           6.3          2015  1.012000e+08  2.716190e+08  \n",
       "\n",
       "[3 rows x 21 columns]"
      ]
     },
     "execution_count": 35,
     "metadata": {},
     "output_type": "execute_result"
    }
   ],
   "source": [
    "# to see the variables\n",
    "tmdb_data.head(n=3)"
   ]
  },
  {
   "cell_type": "code",
   "execution_count": 36,
   "metadata": {},
   "outputs": [
    {
     "data": {
      "text/plain": [
       "(10866, 21)"
      ]
     },
     "execution_count": 36,
     "metadata": {},
     "output_type": "execute_result"
    }
   ],
   "source": [
    "# number of rows and columns in the data\n",
    "tmdb_data.shape"
   ]
  },
  {
   "cell_type": "markdown",
   "metadata": {},
   "source": [
    "We know that our data consists of 10866 observations of 21 variables."
   ]
  },
  {
   "cell_type": "markdown",
   "metadata": {},
   "source": [
    "#### 2.3.1 variables key information \n",
    "To get the dataset's variable types, how many observations there are and variable values."
   ]
  },
  {
   "cell_type": "code",
   "execution_count": 37,
   "metadata": {},
   "outputs": [
    {
     "data": {
      "text/html": [
       "<div>\n",
       "<style>\n",
       "    .dataframe thead tr:only-child th {\n",
       "        text-align: right;\n",
       "    }\n",
       "\n",
       "    .dataframe thead th {\n",
       "        text-align: left;\n",
       "    }\n",
       "\n",
       "    .dataframe tbody tr th {\n",
       "        vertical-align: top;\n",
       "    }\n",
       "</style>\n",
       "<table border=\"1\" class=\"dataframe\">\n",
       "  <thead>\n",
       "    <tr style=\"text-align: right;\">\n",
       "      <th></th>\n",
       "      <th>id</th>\n",
       "      <th>popularity</th>\n",
       "      <th>budget</th>\n",
       "      <th>revenue</th>\n",
       "      <th>runtime</th>\n",
       "      <th>vote_count</th>\n",
       "      <th>vote_average</th>\n",
       "      <th>release_year</th>\n",
       "      <th>budget_adj</th>\n",
       "      <th>revenue_adj</th>\n",
       "    </tr>\n",
       "  </thead>\n",
       "  <tbody>\n",
       "    <tr>\n",
       "      <th>count</th>\n",
       "      <td>10866.000000</td>\n",
       "      <td>10866.000000</td>\n",
       "      <td>1.086600e+04</td>\n",
       "      <td>1.086600e+04</td>\n",
       "      <td>10866.000000</td>\n",
       "      <td>10866.000000</td>\n",
       "      <td>10866.000000</td>\n",
       "      <td>10866.000000</td>\n",
       "      <td>1.086600e+04</td>\n",
       "      <td>1.086600e+04</td>\n",
       "    </tr>\n",
       "    <tr>\n",
       "      <th>mean</th>\n",
       "      <td>66064.177434</td>\n",
       "      <td>0.646441</td>\n",
       "      <td>1.462570e+07</td>\n",
       "      <td>3.982332e+07</td>\n",
       "      <td>102.070863</td>\n",
       "      <td>217.389748</td>\n",
       "      <td>5.974922</td>\n",
       "      <td>2001.322658</td>\n",
       "      <td>1.755104e+07</td>\n",
       "      <td>5.136436e+07</td>\n",
       "    </tr>\n",
       "    <tr>\n",
       "      <th>std</th>\n",
       "      <td>92130.136561</td>\n",
       "      <td>1.000185</td>\n",
       "      <td>3.091321e+07</td>\n",
       "      <td>1.170035e+08</td>\n",
       "      <td>31.381405</td>\n",
       "      <td>575.619058</td>\n",
       "      <td>0.935142</td>\n",
       "      <td>12.812941</td>\n",
       "      <td>3.430616e+07</td>\n",
       "      <td>1.446325e+08</td>\n",
       "    </tr>\n",
       "    <tr>\n",
       "      <th>min</th>\n",
       "      <td>5.000000</td>\n",
       "      <td>0.000065</td>\n",
       "      <td>0.000000e+00</td>\n",
       "      <td>0.000000e+00</td>\n",
       "      <td>0.000000</td>\n",
       "      <td>10.000000</td>\n",
       "      <td>1.500000</td>\n",
       "      <td>1960.000000</td>\n",
       "      <td>0.000000e+00</td>\n",
       "      <td>0.000000e+00</td>\n",
       "    </tr>\n",
       "    <tr>\n",
       "      <th>25%</th>\n",
       "      <td>10596.250000</td>\n",
       "      <td>0.207583</td>\n",
       "      <td>0.000000e+00</td>\n",
       "      <td>0.000000e+00</td>\n",
       "      <td>90.000000</td>\n",
       "      <td>17.000000</td>\n",
       "      <td>5.400000</td>\n",
       "      <td>1995.000000</td>\n",
       "      <td>0.000000e+00</td>\n",
       "      <td>0.000000e+00</td>\n",
       "    </tr>\n",
       "    <tr>\n",
       "      <th>50%</th>\n",
       "      <td>20669.000000</td>\n",
       "      <td>0.383856</td>\n",
       "      <td>0.000000e+00</td>\n",
       "      <td>0.000000e+00</td>\n",
       "      <td>99.000000</td>\n",
       "      <td>38.000000</td>\n",
       "      <td>6.000000</td>\n",
       "      <td>2006.000000</td>\n",
       "      <td>0.000000e+00</td>\n",
       "      <td>0.000000e+00</td>\n",
       "    </tr>\n",
       "    <tr>\n",
       "      <th>75%</th>\n",
       "      <td>75610.000000</td>\n",
       "      <td>0.713817</td>\n",
       "      <td>1.500000e+07</td>\n",
       "      <td>2.400000e+07</td>\n",
       "      <td>111.000000</td>\n",
       "      <td>145.750000</td>\n",
       "      <td>6.600000</td>\n",
       "      <td>2011.000000</td>\n",
       "      <td>2.085325e+07</td>\n",
       "      <td>3.369710e+07</td>\n",
       "    </tr>\n",
       "    <tr>\n",
       "      <th>max</th>\n",
       "      <td>417859.000000</td>\n",
       "      <td>32.985763</td>\n",
       "      <td>4.250000e+08</td>\n",
       "      <td>2.781506e+09</td>\n",
       "      <td>900.000000</td>\n",
       "      <td>9767.000000</td>\n",
       "      <td>9.200000</td>\n",
       "      <td>2015.000000</td>\n",
       "      <td>4.250000e+08</td>\n",
       "      <td>2.827124e+09</td>\n",
       "    </tr>\n",
       "  </tbody>\n",
       "</table>\n",
       "</div>"
      ],
      "text/plain": [
       "                  id    popularity        budget       revenue       runtime  \\\n",
       "count   10866.000000  10866.000000  1.086600e+04  1.086600e+04  10866.000000   \n",
       "mean    66064.177434      0.646441  1.462570e+07  3.982332e+07    102.070863   \n",
       "std     92130.136561      1.000185  3.091321e+07  1.170035e+08     31.381405   \n",
       "min         5.000000      0.000065  0.000000e+00  0.000000e+00      0.000000   \n",
       "25%     10596.250000      0.207583  0.000000e+00  0.000000e+00     90.000000   \n",
       "50%     20669.000000      0.383856  0.000000e+00  0.000000e+00     99.000000   \n",
       "75%     75610.000000      0.713817  1.500000e+07  2.400000e+07    111.000000   \n",
       "max    417859.000000     32.985763  4.250000e+08  2.781506e+09    900.000000   \n",
       "\n",
       "         vote_count  vote_average  release_year    budget_adj   revenue_adj  \n",
       "count  10866.000000  10866.000000  10866.000000  1.086600e+04  1.086600e+04  \n",
       "mean     217.389748      5.974922   2001.322658  1.755104e+07  5.136436e+07  \n",
       "std      575.619058      0.935142     12.812941  3.430616e+07  1.446325e+08  \n",
       "min       10.000000      1.500000   1960.000000  0.000000e+00  0.000000e+00  \n",
       "25%       17.000000      5.400000   1995.000000  0.000000e+00  0.000000e+00  \n",
       "50%       38.000000      6.000000   2006.000000  0.000000e+00  0.000000e+00  \n",
       "75%      145.750000      6.600000   2011.000000  2.085325e+07  3.369710e+07  \n",
       "max     9767.000000      9.200000   2015.000000  4.250000e+08  2.827124e+09  "
      ]
     },
     "execution_count": 37,
     "metadata": {},
     "output_type": "execute_result"
    }
   ],
   "source": [
    "# basic statistics\n",
    "tmdb_data.describe()"
   ]
  },
  {
   "cell_type": "markdown",
   "metadata": {},
   "source": [
    "#### 2.3.2  Correlation heatmap building\n",
    "To get which variables are important."
   ]
  },
  {
   "cell_type": "code",
   "execution_count": 38,
   "metadata": {},
   "outputs": [
    {
     "data": {
      "text/html": [
       "<div>\n",
       "<style>\n",
       "    .dataframe thead tr:only-child th {\n",
       "        text-align: right;\n",
       "    }\n",
       "\n",
       "    .dataframe thead th {\n",
       "        text-align: left;\n",
       "    }\n",
       "\n",
       "    .dataframe tbody tr th {\n",
       "        vertical-align: top;\n",
       "    }\n",
       "</style>\n",
       "<table border=\"1\" class=\"dataframe\">\n",
       "  <thead>\n",
       "    <tr style=\"text-align: right;\">\n",
       "      <th></th>\n",
       "      <th>id</th>\n",
       "      <th>popularity</th>\n",
       "      <th>budget</th>\n",
       "      <th>revenue</th>\n",
       "      <th>runtime</th>\n",
       "      <th>vote_count</th>\n",
       "      <th>vote_average</th>\n",
       "      <th>release_year</th>\n",
       "      <th>budget_adj</th>\n",
       "      <th>revenue_adj</th>\n",
       "    </tr>\n",
       "  </thead>\n",
       "  <tbody>\n",
       "    <tr>\n",
       "      <th>id</th>\n",
       "      <td>1.000000</td>\n",
       "      <td>-0.014350</td>\n",
       "      <td>-0.141351</td>\n",
       "      <td>-0.099227</td>\n",
       "      <td>-0.088360</td>\n",
       "      <td>-0.035551</td>\n",
       "      <td>-0.058363</td>\n",
       "      <td>0.511364</td>\n",
       "      <td>-0.189015</td>\n",
       "      <td>-0.138477</td>\n",
       "    </tr>\n",
       "    <tr>\n",
       "      <th>popularity</th>\n",
       "      <td>-0.014350</td>\n",
       "      <td>1.000000</td>\n",
       "      <td>0.545472</td>\n",
       "      <td>0.663358</td>\n",
       "      <td>0.139033</td>\n",
       "      <td>0.800828</td>\n",
       "      <td>0.209511</td>\n",
       "      <td>0.089801</td>\n",
       "      <td>0.513550</td>\n",
       "      <td>0.609083</td>\n",
       "    </tr>\n",
       "    <tr>\n",
       "      <th>budget</th>\n",
       "      <td>-0.141351</td>\n",
       "      <td>0.545472</td>\n",
       "      <td>1.000000</td>\n",
       "      <td>0.734901</td>\n",
       "      <td>0.191283</td>\n",
       "      <td>0.632702</td>\n",
       "      <td>0.081014</td>\n",
       "      <td>0.115931</td>\n",
       "      <td>0.968963</td>\n",
       "      <td>0.622505</td>\n",
       "    </tr>\n",
       "    <tr>\n",
       "      <th>revenue</th>\n",
       "      <td>-0.099227</td>\n",
       "      <td>0.663358</td>\n",
       "      <td>0.734901</td>\n",
       "      <td>1.000000</td>\n",
       "      <td>0.162838</td>\n",
       "      <td>0.791175</td>\n",
       "      <td>0.172564</td>\n",
       "      <td>0.057048</td>\n",
       "      <td>0.706427</td>\n",
       "      <td>0.919110</td>\n",
       "    </tr>\n",
       "    <tr>\n",
       "      <th>runtime</th>\n",
       "      <td>-0.088360</td>\n",
       "      <td>0.139033</td>\n",
       "      <td>0.191283</td>\n",
       "      <td>0.162838</td>\n",
       "      <td>1.000000</td>\n",
       "      <td>0.163278</td>\n",
       "      <td>0.156835</td>\n",
       "      <td>-0.117204</td>\n",
       "      <td>0.221114</td>\n",
       "      <td>0.175676</td>\n",
       "    </tr>\n",
       "    <tr>\n",
       "      <th>vote_count</th>\n",
       "      <td>-0.035551</td>\n",
       "      <td>0.800828</td>\n",
       "      <td>0.632702</td>\n",
       "      <td>0.791175</td>\n",
       "      <td>0.163278</td>\n",
       "      <td>1.000000</td>\n",
       "      <td>0.253823</td>\n",
       "      <td>0.107948</td>\n",
       "      <td>0.587051</td>\n",
       "      <td>0.707942</td>\n",
       "    </tr>\n",
       "    <tr>\n",
       "      <th>vote_average</th>\n",
       "      <td>-0.058363</td>\n",
       "      <td>0.209511</td>\n",
       "      <td>0.081014</td>\n",
       "      <td>0.172564</td>\n",
       "      <td>0.156835</td>\n",
       "      <td>0.253823</td>\n",
       "      <td>1.000000</td>\n",
       "      <td>-0.117632</td>\n",
       "      <td>0.093039</td>\n",
       "      <td>0.193085</td>\n",
       "    </tr>\n",
       "    <tr>\n",
       "      <th>release_year</th>\n",
       "      <td>0.511364</td>\n",
       "      <td>0.089801</td>\n",
       "      <td>0.115931</td>\n",
       "      <td>0.057048</td>\n",
       "      <td>-0.117204</td>\n",
       "      <td>0.107948</td>\n",
       "      <td>-0.117632</td>\n",
       "      <td>1.000000</td>\n",
       "      <td>0.016793</td>\n",
       "      <td>-0.066256</td>\n",
       "    </tr>\n",
       "    <tr>\n",
       "      <th>budget_adj</th>\n",
       "      <td>-0.189015</td>\n",
       "      <td>0.513550</td>\n",
       "      <td>0.968963</td>\n",
       "      <td>0.706427</td>\n",
       "      <td>0.221114</td>\n",
       "      <td>0.587051</td>\n",
       "      <td>0.093039</td>\n",
       "      <td>0.016793</td>\n",
       "      <td>1.000000</td>\n",
       "      <td>0.646607</td>\n",
       "    </tr>\n",
       "    <tr>\n",
       "      <th>revenue_adj</th>\n",
       "      <td>-0.138477</td>\n",
       "      <td>0.609083</td>\n",
       "      <td>0.622505</td>\n",
       "      <td>0.919110</td>\n",
       "      <td>0.175676</td>\n",
       "      <td>0.707942</td>\n",
       "      <td>0.193085</td>\n",
       "      <td>-0.066256</td>\n",
       "      <td>0.646607</td>\n",
       "      <td>1.000000</td>\n",
       "    </tr>\n",
       "  </tbody>\n",
       "</table>\n",
       "</div>"
      ],
      "text/plain": [
       "                    id  popularity    budget   revenue   runtime  vote_count  \\\n",
       "id            1.000000   -0.014350 -0.141351 -0.099227 -0.088360   -0.035551   \n",
       "popularity   -0.014350    1.000000  0.545472  0.663358  0.139033    0.800828   \n",
       "budget       -0.141351    0.545472  1.000000  0.734901  0.191283    0.632702   \n",
       "revenue      -0.099227    0.663358  0.734901  1.000000  0.162838    0.791175   \n",
       "runtime      -0.088360    0.139033  0.191283  0.162838  1.000000    0.163278   \n",
       "vote_count   -0.035551    0.800828  0.632702  0.791175  0.163278    1.000000   \n",
       "vote_average -0.058363    0.209511  0.081014  0.172564  0.156835    0.253823   \n",
       "release_year  0.511364    0.089801  0.115931  0.057048 -0.117204    0.107948   \n",
       "budget_adj   -0.189015    0.513550  0.968963  0.706427  0.221114    0.587051   \n",
       "revenue_adj  -0.138477    0.609083  0.622505  0.919110  0.175676    0.707942   \n",
       "\n",
       "              vote_average  release_year  budget_adj  revenue_adj  \n",
       "id               -0.058363      0.511364   -0.189015    -0.138477  \n",
       "popularity        0.209511      0.089801    0.513550     0.609083  \n",
       "budget            0.081014      0.115931    0.968963     0.622505  \n",
       "revenue           0.172564      0.057048    0.706427     0.919110  \n",
       "runtime           0.156835     -0.117204    0.221114     0.175676  \n",
       "vote_count        0.253823      0.107948    0.587051     0.707942  \n",
       "vote_average      1.000000     -0.117632    0.093039     0.193085  \n",
       "release_year     -0.117632      1.000000    0.016793    -0.066256  \n",
       "budget_adj        0.093039      0.016793    1.000000     0.646607  \n",
       "revenue_adj       0.193085     -0.066256    0.646607     1.000000  "
      ]
     },
     "execution_count": 38,
     "metadata": {},
     "output_type": "execute_result"
    }
   ],
   "source": [
    "# calculate the correlation between features\n",
    "\n",
    "corr = tmdb_data.corr()\n",
    "tmdb_data.corr()"
   ]
  },
  {
   "cell_type": "code",
   "execution_count": 108,
   "metadata": {},
   "outputs": [
    {
     "data": {
      "text/html": [
       "<style  type=\"text/css\" >\n",
       "    #T_8f3dea46_c9ea_11e7_a1b9_720005ca96a0 th {\n",
       "          font-size: 7pt;\n",
       "    }    #T_8f3dea46_c9ea_11e7_a1b9_720005ca96a0 td {\n",
       "          padding: 0em 0em;\n",
       "    }    #T_8f3dea46_c9ea_11e7_a1b9_720005ca96a0 th:hover {\n",
       "          font-size: 12pt;\n",
       "    }    #T_8f3dea46_c9ea_11e7_a1b9_720005ca96a0 tr:hover td:hover {\n",
       "          max-width: 200px;\n",
       "          font-size: 12pt;\n",
       "    }    #T_8f3dea46_c9ea_11e7_a1b9_720005ca96a0row0_col0 {\n",
       "            background-color:  #da3b46;\n",
       "            max-width:  80px;\n",
       "            font-size:  10pt;\n",
       "        }    #T_8f3dea46_c9ea_11e7_a1b9_720005ca96a0row0_col1 {\n",
       "            background-color:  #779dcd;\n",
       "            max-width:  80px;\n",
       "            font-size:  10pt;\n",
       "        }    #T_8f3dea46_c9ea_11e7_a1b9_720005ca96a0row0_col2 {\n",
       "            background-color:  #5182bf;\n",
       "            max-width:  80px;\n",
       "            font-size:  10pt;\n",
       "        }    #T_8f3dea46_c9ea_11e7_a1b9_720005ca96a0row0_col3 {\n",
       "            background-color:  #5e8bc4;\n",
       "            max-width:  80px;\n",
       "            font-size:  10pt;\n",
       "        }    #T_8f3dea46_c9ea_11e7_a1b9_720005ca96a0row0_col4 {\n",
       "            background-color:  #618ec5;\n",
       "            max-width:  80px;\n",
       "            font-size:  10pt;\n",
       "        }    #T_8f3dea46_c9ea_11e7_a1b9_720005ca96a0row0_col5 {\n",
       "            background-color:  #7199cb;\n",
       "            max-width:  80px;\n",
       "            font-size:  10pt;\n",
       "        }    #T_8f3dea46_c9ea_11e7_a1b9_720005ca96a0row0_col6 {\n",
       "            background-color:  #6a94c9;\n",
       "            max-width:  80px;\n",
       "            font-size:  10pt;\n",
       "        }    #T_8f3dea46_c9ea_11e7_a1b9_720005ca96a0row0_col7 {\n",
       "            background-color:  #f6d2d4;\n",
       "            max-width:  80px;\n",
       "            font-size:  10pt;\n",
       "        }    #T_8f3dea46_c9ea_11e7_a1b9_720005ca96a0row0_col8 {\n",
       "            background-color:  #4479bb;\n",
       "            max-width:  80px;\n",
       "            font-size:  10pt;\n",
       "        }    #T_8f3dea46_c9ea_11e7_a1b9_720005ca96a0row0_col9 {\n",
       "            background-color:  #5182bf;\n",
       "            max-width:  80px;\n",
       "            font-size:  10pt;\n",
       "        }    #T_8f3dea46_c9ea_11e7_a1b9_720005ca96a0row1_col0 {\n",
       "            background-color:  #4479bb;\n",
       "            max-width:  80px;\n",
       "            font-size:  10pt;\n",
       "        }    #T_8f3dea46_c9ea_11e7_a1b9_720005ca96a0row1_col1 {\n",
       "            background-color:  #da3b46;\n",
       "            max-width:  80px;\n",
       "            font-size:  10pt;\n",
       "        }    #T_8f3dea46_c9ea_11e7_a1b9_720005ca96a0row1_col2 {\n",
       "            background-color:  #f9dfe1;\n",
       "            max-width:  80px;\n",
       "            font-size:  10pt;\n",
       "        }    #T_8f3dea46_c9ea_11e7_a1b9_720005ca96a0row1_col3 {\n",
       "            background-color:  #f1b3b8;\n",
       "            max-width:  80px;\n",
       "            font-size:  10pt;\n",
       "        }    #T_8f3dea46_c9ea_11e7_a1b9_720005ca96a0row1_col4 {\n",
       "            background-color:  #789ece;\n",
       "            max-width:  80px;\n",
       "            font-size:  10pt;\n",
       "        }    #T_8f3dea46_c9ea_11e7_a1b9_720005ca96a0row1_col5 {\n",
       "            background-color:  #e78289;\n",
       "            max-width:  80px;\n",
       "            font-size:  10pt;\n",
       "        }    #T_8f3dea46_c9ea_11e7_a1b9_720005ca96a0row1_col6 {\n",
       "            background-color:  #91b0d7;\n",
       "            max-width:  80px;\n",
       "            font-size:  10pt;\n",
       "        }    #T_8f3dea46_c9ea_11e7_a1b9_720005ca96a0row1_col7 {\n",
       "            background-color:  #6892c8;\n",
       "            max-width:  80px;\n",
       "            font-size:  10pt;\n",
       "        }    #T_8f3dea46_c9ea_11e7_a1b9_720005ca96a0row1_col8 {\n",
       "            background-color:  #fbeaeb;\n",
       "            max-width:  80px;\n",
       "            font-size:  10pt;\n",
       "        }    #T_8f3dea46_c9ea_11e7_a1b9_720005ca96a0row1_col9 {\n",
       "            background-color:  #f4c7cb;\n",
       "            max-width:  80px;\n",
       "            font-size:  10pt;\n",
       "        }    #T_8f3dea46_c9ea_11e7_a1b9_720005ca96a0row2_col0 {\n",
       "            background-color:  #4479bb;\n",
       "            max-width:  80px;\n",
       "            font-size:  10pt;\n",
       "        }    #T_8f3dea46_c9ea_11e7_a1b9_720005ca96a0row2_col1 {\n",
       "            background-color:  #f5cbce;\n",
       "            max-width:  80px;\n",
       "            font-size:  10pt;\n",
       "        }    #T_8f3dea46_c9ea_11e7_a1b9_720005ca96a0row2_col2 {\n",
       "            background-color:  #da3b46;\n",
       "            max-width:  80px;\n",
       "            font-size:  10pt;\n",
       "        }    #T_8f3dea46_c9ea_11e7_a1b9_720005ca96a0row2_col3 {\n",
       "            background-color:  #ea8f96;\n",
       "            max-width:  80px;\n",
       "            font-size:  10pt;\n",
       "        }    #T_8f3dea46_c9ea_11e7_a1b9_720005ca96a0row2_col4 {\n",
       "            background-color:  #aac2e0;\n",
       "            max-width:  80px;\n",
       "            font-size:  10pt;\n",
       "        }    #T_8f3dea46_c9ea_11e7_a1b9_720005ca96a0row2_col5 {\n",
       "            background-color:  #f0b1b5;\n",
       "            max-width:  80px;\n",
       "            font-size:  10pt;\n",
       "        }    #T_8f3dea46_c9ea_11e7_a1b9_720005ca96a0row2_col6 {\n",
       "            background-color:  #87a9d3;\n",
       "            max-width:  80px;\n",
       "            font-size:  10pt;\n",
       "        }    #T_8f3dea46_c9ea_11e7_a1b9_720005ca96a0row2_col7 {\n",
       "            background-color:  #92b1d7;\n",
       "            max-width:  80px;\n",
       "            font-size:  10pt;\n",
       "        }    #T_8f3dea46_c9ea_11e7_a1b9_720005ca96a0row2_col8 {\n",
       "            background-color:  #db434e;\n",
       "            max-width:  80px;\n",
       "            font-size:  10pt;\n",
       "        }    #T_8f3dea46_c9ea_11e7_a1b9_720005ca96a0row2_col9 {\n",
       "            background-color:  #f1b3b8;\n",
       "            max-width:  80px;\n",
       "            font-size:  10pt;\n",
       "        }    #T_8f3dea46_c9ea_11e7_a1b9_720005ca96a0row3_col0 {\n",
       "            background-color:  #4479bb;\n",
       "            max-width:  80px;\n",
       "            font-size:  10pt;\n",
       "        }    #T_8f3dea46_c9ea_11e7_a1b9_720005ca96a0row3_col1 {\n",
       "            background-color:  #efaab0;\n",
       "            max-width:  80px;\n",
       "            font-size:  10pt;\n",
       "        }    #T_8f3dea46_c9ea_11e7_a1b9_720005ca96a0row3_col2 {\n",
       "            background-color:  #ea9298;\n",
       "            max-width:  80px;\n",
       "            font-size:  10pt;\n",
       "        }    #T_8f3dea46_c9ea_11e7_a1b9_720005ca96a0row3_col3 {\n",
       "            background-color:  #da3b46;\n",
       "            max-width:  80px;\n",
       "            font-size:  10pt;\n",
       "        }    #T_8f3dea46_c9ea_11e7_a1b9_720005ca96a0row3_col4 {\n",
       "            background-color:  #98b5da;\n",
       "            max-width:  80px;\n",
       "            font-size:  10pt;\n",
       "        }    #T_8f3dea46_c9ea_11e7_a1b9_720005ca96a0row3_col5 {\n",
       "            background-color:  #e77f87;\n",
       "            max-width:  80px;\n",
       "            font-size:  10pt;\n",
       "        }    #T_8f3dea46_c9ea_11e7_a1b9_720005ca96a0row3_col6 {\n",
       "            background-color:  #9bb7da;\n",
       "            max-width:  80px;\n",
       "            font-size:  10pt;\n",
       "        }    #T_8f3dea46_c9ea_11e7_a1b9_720005ca96a0row3_col7 {\n",
       "            background-color:  #759ccd;\n",
       "            max-width:  80px;\n",
       "            font-size:  10pt;\n",
       "        }    #T_8f3dea46_c9ea_11e7_a1b9_720005ca96a0row3_col8 {\n",
       "            background-color:  #ec9ca2;\n",
       "            max-width:  80px;\n",
       "            font-size:  10pt;\n",
       "        }    #T_8f3dea46_c9ea_11e7_a1b9_720005ca96a0row3_col9 {\n",
       "            background-color:  #df545e;\n",
       "            max-width:  80px;\n",
       "            font-size:  10pt;\n",
       "        }    #T_8f3dea46_c9ea_11e7_a1b9_720005ca96a0row4_col0 {\n",
       "            background-color:  #4c7ebd;\n",
       "            max-width:  80px;\n",
       "            font-size:  10pt;\n",
       "        }    #T_8f3dea46_c9ea_11e7_a1b9_720005ca96a0row4_col1 {\n",
       "            background-color:  #94b2d8;\n",
       "            max-width:  80px;\n",
       "            font-size:  10pt;\n",
       "        }    #T_8f3dea46_c9ea_11e7_a1b9_720005ca96a0row4_col2 {\n",
       "            background-color:  #a4bede;\n",
       "            max-width:  80px;\n",
       "            font-size:  10pt;\n",
       "        }    #T_8f3dea46_c9ea_11e7_a1b9_720005ca96a0row4_col3 {\n",
       "            background-color:  #9cb8db;\n",
       "            max-width:  80px;\n",
       "            font-size:  10pt;\n",
       "        }    #T_8f3dea46_c9ea_11e7_a1b9_720005ca96a0row4_col4 {\n",
       "            background-color:  #da3b46;\n",
       "            max-width:  80px;\n",
       "            font-size:  10pt;\n",
       "        }    #T_8f3dea46_c9ea_11e7_a1b9_720005ca96a0row4_col5 {\n",
       "            background-color:  #9cb8db;\n",
       "            max-width:  80px;\n",
       "            font-size:  10pt;\n",
       "        }    #T_8f3dea46_c9ea_11e7_a1b9_720005ca96a0row4_col6 {\n",
       "            background-color:  #9ab6da;\n",
       "            max-width:  80px;\n",
       "            font-size:  10pt;\n",
       "        }    #T_8f3dea46_c9ea_11e7_a1b9_720005ca96a0row4_col7 {\n",
       "            background-color:  #4479bb;\n",
       "            max-width:  80px;\n",
       "            font-size:  10pt;\n",
       "        }    #T_8f3dea46_c9ea_11e7_a1b9_720005ca96a0row4_col8 {\n",
       "            background-color:  #aec5e1;\n",
       "            max-width:  80px;\n",
       "            font-size:  10pt;\n",
       "        }    #T_8f3dea46_c9ea_11e7_a1b9_720005ca96a0row4_col9 {\n",
       "            background-color:  #a0bbdc;\n",
       "            max-width:  80px;\n",
       "            font-size:  10pt;\n",
       "        }    #T_8f3dea46_c9ea_11e7_a1b9_720005ca96a0row5_col0 {\n",
       "            background-color:  #4479bb;\n",
       "            max-width:  80px;\n",
       "            font-size:  10pt;\n",
       "        }    #T_8f3dea46_c9ea_11e7_a1b9_720005ca96a0row5_col1 {\n",
       "            background-color:  #e78188;\n",
       "            max-width:  80px;\n",
       "            font-size:  10pt;\n",
       "        }    #T_8f3dea46_c9ea_11e7_a1b9_720005ca96a0row5_col2 {\n",
       "            background-color:  #f2bcc0;\n",
       "            max-width:  80px;\n",
       "            font-size:  10pt;\n",
       "        }    #T_8f3dea46_c9ea_11e7_a1b9_720005ca96a0row5_col3 {\n",
       "            background-color:  #e8848b;\n",
       "            max-width:  80px;\n",
       "            font-size:  10pt;\n",
       "        }    #T_8f3dea46_c9ea_11e7_a1b9_720005ca96a0row5_col4 {\n",
       "            background-color:  #87a9d3;\n",
       "            max-width:  80px;\n",
       "            font-size:  10pt;\n",
       "        }    #T_8f3dea46_c9ea_11e7_a1b9_720005ca96a0row5_col5 {\n",
       "            background-color:  #da3b46;\n",
       "            max-width:  80px;\n",
       "            font-size:  10pt;\n",
       "        }    #T_8f3dea46_c9ea_11e7_a1b9_720005ca96a0row5_col6 {\n",
       "            background-color:  #a6bfde;\n",
       "            max-width:  80px;\n",
       "            font-size:  10pt;\n",
       "        }    #T_8f3dea46_c9ea_11e7_a1b9_720005ca96a0row5_col7 {\n",
       "            background-color:  #749bcc;\n",
       "            max-width:  80px;\n",
       "            font-size:  10pt;\n",
       "        }    #T_8f3dea46_c9ea_11e7_a1b9_720005ca96a0row5_col8 {\n",
       "            background-color:  #f6cdd0;\n",
       "            max-width:  80px;\n",
       "            font-size:  10pt;\n",
       "        }    #T_8f3dea46_c9ea_11e7_a1b9_720005ca96a0row5_col9 {\n",
       "            background-color:  #eda2a8;\n",
       "            max-width:  80px;\n",
       "            font-size:  10pt;\n",
       "        }    #T_8f3dea46_c9ea_11e7_a1b9_720005ca96a0row6_col0 {\n",
       "            background-color:  #5686c1;\n",
       "            max-width:  80px;\n",
       "            font-size:  10pt;\n",
       "        }    #T_8f3dea46_c9ea_11e7_a1b9_720005ca96a0row6_col1 {\n",
       "            background-color:  #aac2e0;\n",
       "            max-width:  80px;\n",
       "            font-size:  10pt;\n",
       "        }    #T_8f3dea46_c9ea_11e7_a1b9_720005ca96a0row6_col2 {\n",
       "            background-color:  #82a5d1;\n",
       "            max-width:  80px;\n",
       "            font-size:  10pt;\n",
       "        }    #T_8f3dea46_c9ea_11e7_a1b9_720005ca96a0row6_col3 {\n",
       "            background-color:  #9fbadc;\n",
       "            max-width:  80px;\n",
       "            font-size:  10pt;\n",
       "        }    #T_8f3dea46_c9ea_11e7_a1b9_720005ca96a0row6_col4 {\n",
       "            background-color:  #9ab6da;\n",
       "            max-width:  80px;\n",
       "            font-size:  10pt;\n",
       "        }    #T_8f3dea46_c9ea_11e7_a1b9_720005ca96a0row6_col5 {\n",
       "            background-color:  #b9cde6;\n",
       "            max-width:  80px;\n",
       "            font-size:  10pt;\n",
       "        }    #T_8f3dea46_c9ea_11e7_a1b9_720005ca96a0row6_col6 {\n",
       "            background-color:  #da3b46;\n",
       "            max-width:  80px;\n",
       "            font-size:  10pt;\n",
       "        }    #T_8f3dea46_c9ea_11e7_a1b9_720005ca96a0row6_col7 {\n",
       "            background-color:  #4479bb;\n",
       "            max-width:  80px;\n",
       "            font-size:  10pt;\n",
       "        }    #T_8f3dea46_c9ea_11e7_a1b9_720005ca96a0row6_col8 {\n",
       "            background-color:  #86a8d3;\n",
       "            max-width:  80px;\n",
       "            font-size:  10pt;\n",
       "        }    #T_8f3dea46_c9ea_11e7_a1b9_720005ca96a0row6_col9 {\n",
       "            background-color:  #a6bfde;\n",
       "            max-width:  80px;\n",
       "            font-size:  10pt;\n",
       "        }    #T_8f3dea46_c9ea_11e7_a1b9_720005ca96a0row7_col0 {\n",
       "            background-color:  #f8dadc;\n",
       "            max-width:  80px;\n",
       "            font-size:  10pt;\n",
       "        }    #T_8f3dea46_c9ea_11e7_a1b9_720005ca96a0row7_col1 {\n",
       "            background-color:  #85a7d2;\n",
       "            max-width:  80px;\n",
       "            font-size:  10pt;\n",
       "        }    #T_8f3dea46_c9ea_11e7_a1b9_720005ca96a0row7_col2 {\n",
       "            background-color:  #8dadd5;\n",
       "            max-width:  80px;\n",
       "            font-size:  10pt;\n",
       "        }    #T_8f3dea46_c9ea_11e7_a1b9_720005ca96a0row7_col3 {\n",
       "            background-color:  #7ba0cf;\n",
       "            max-width:  80px;\n",
       "            font-size:  10pt;\n",
       "        }    #T_8f3dea46_c9ea_11e7_a1b9_720005ca96a0row7_col4 {\n",
       "            background-color:  #4479bb;\n",
       "            max-width:  80px;\n",
       "            font-size:  10pt;\n",
       "        }    #T_8f3dea46_c9ea_11e7_a1b9_720005ca96a0row7_col5 {\n",
       "            background-color:  #8babd4;\n",
       "            max-width:  80px;\n",
       "            font-size:  10pt;\n",
       "        }    #T_8f3dea46_c9ea_11e7_a1b9_720005ca96a0row7_col6 {\n",
       "            background-color:  #4479bb;\n",
       "            max-width:  80px;\n",
       "            font-size:  10pt;\n",
       "        }    #T_8f3dea46_c9ea_11e7_a1b9_720005ca96a0row7_col7 {\n",
       "            background-color:  #da3b46;\n",
       "            max-width:  80px;\n",
       "            font-size:  10pt;\n",
       "        }    #T_8f3dea46_c9ea_11e7_a1b9_720005ca96a0row7_col8 {\n",
       "            background-color:  #6d96ca;\n",
       "            max-width:  80px;\n",
       "            font-size:  10pt;\n",
       "        }    #T_8f3dea46_c9ea_11e7_a1b9_720005ca96a0row7_col9 {\n",
       "            background-color:  #5384c0;\n",
       "            max-width:  80px;\n",
       "            font-size:  10pt;\n",
       "        }    #T_8f3dea46_c9ea_11e7_a1b9_720005ca96a0row8_col0 {\n",
       "            background-color:  #4479bb;\n",
       "            max-width:  80px;\n",
       "            font-size:  10pt;\n",
       "        }    #T_8f3dea46_c9ea_11e7_a1b9_720005ca96a0row8_col1 {\n",
       "            background-color:  #f6d0d3;\n",
       "            max-width:  80px;\n",
       "            font-size:  10pt;\n",
       "        }    #T_8f3dea46_c9ea_11e7_a1b9_720005ca96a0row8_col2 {\n",
       "            background-color:  #db434e;\n",
       "            max-width:  80px;\n",
       "            font-size:  10pt;\n",
       "        }    #T_8f3dea46_c9ea_11e7_a1b9_720005ca96a0row8_col3 {\n",
       "            background-color:  #eb959c;\n",
       "            max-width:  80px;\n",
       "            font-size:  10pt;\n",
       "        }    #T_8f3dea46_c9ea_11e7_a1b9_720005ca96a0row8_col4 {\n",
       "            background-color:  #bdd0e7;\n",
       "            max-width:  80px;\n",
       "            font-size:  10pt;\n",
       "        }    #T_8f3dea46_c9ea_11e7_a1b9_720005ca96a0row8_col5 {\n",
       "            background-color:  #f2b9bd;\n",
       "            max-width:  80px;\n",
       "            font-size:  10pt;\n",
       "        }    #T_8f3dea46_c9ea_11e7_a1b9_720005ca96a0row8_col6 {\n",
       "            background-color:  #96b4d9;\n",
       "            max-width:  80px;\n",
       "            font-size:  10pt;\n",
       "        }    #T_8f3dea46_c9ea_11e7_a1b9_720005ca96a0row8_col7 {\n",
       "            background-color:  #81a4d1;\n",
       "            max-width:  80px;\n",
       "            font-size:  10pt;\n",
       "        }    #T_8f3dea46_c9ea_11e7_a1b9_720005ca96a0row8_col8 {\n",
       "            background-color:  #da3b46;\n",
       "            max-width:  80px;\n",
       "            font-size:  10pt;\n",
       "        }    #T_8f3dea46_c9ea_11e7_a1b9_720005ca96a0row8_col9 {\n",
       "            background-color:  #efa8ad;\n",
       "            max-width:  80px;\n",
       "            font-size:  10pt;\n",
       "        }    #T_8f3dea46_c9ea_11e7_a1b9_720005ca96a0row9_col0 {\n",
       "            background-color:  #4479bb;\n",
       "            max-width:  80px;\n",
       "            font-size:  10pt;\n",
       "        }    #T_8f3dea46_c9ea_11e7_a1b9_720005ca96a0row9_col1 {\n",
       "            background-color:  #f1b7bc;\n",
       "            max-width:  80px;\n",
       "            font-size:  10pt;\n",
       "        }    #T_8f3dea46_c9ea_11e7_a1b9_720005ca96a0row9_col2 {\n",
       "            background-color:  #f1b3b8;\n",
       "            max-width:  80px;\n",
       "            font-size:  10pt;\n",
       "        }    #T_8f3dea46_c9ea_11e7_a1b9_720005ca96a0row9_col3 {\n",
       "            background-color:  #df545e;\n",
       "            max-width:  80px;\n",
       "            font-size:  10pt;\n",
       "        }    #T_8f3dea46_c9ea_11e7_a1b9_720005ca96a0row9_col4 {\n",
       "            background-color:  #a4bede;\n",
       "            max-width:  80px;\n",
       "            font-size:  10pt;\n",
       "        }    #T_8f3dea46_c9ea_11e7_a1b9_720005ca96a0row9_col5 {\n",
       "            background-color:  #ec989e;\n",
       "            max-width:  80px;\n",
       "            font-size:  10pt;\n",
       "        }    #T_8f3dea46_c9ea_11e7_a1b9_720005ca96a0row9_col6 {\n",
       "            background-color:  #aac2e0;\n",
       "            max-width:  80px;\n",
       "            font-size:  10pt;\n",
       "        }    #T_8f3dea46_c9ea_11e7_a1b9_720005ca96a0row9_col7 {\n",
       "            background-color:  #5a88c3;\n",
       "            max-width:  80px;\n",
       "            font-size:  10pt;\n",
       "        }    #T_8f3dea46_c9ea_11e7_a1b9_720005ca96a0row9_col8 {\n",
       "            background-color:  #efacb1;\n",
       "            max-width:  80px;\n",
       "            font-size:  10pt;\n",
       "        }    #T_8f3dea46_c9ea_11e7_a1b9_720005ca96a0row9_col9 {\n",
       "            background-color:  #da3b46;\n",
       "            max-width:  80px;\n",
       "            font-size:  10pt;\n",
       "        }</style>  \n",
       "<table id=\"T_8f3dea46_c9ea_11e7_a1b9_720005ca96a0\" ><caption>Hover to magify</caption> \n",
       "<thead>    <tr> \n",
       "        <th class=\"blank level0\" ></th> \n",
       "        <th class=\"col_heading level0 col0\" >id</th> \n",
       "        <th class=\"col_heading level0 col1\" >popularity</th> \n",
       "        <th class=\"col_heading level0 col2\" >budget</th> \n",
       "        <th class=\"col_heading level0 col3\" >revenue</th> \n",
       "        <th class=\"col_heading level0 col4\" >runtime</th> \n",
       "        <th class=\"col_heading level0 col5\" >vote_count</th> \n",
       "        <th class=\"col_heading level0 col6\" >vote_average</th> \n",
       "        <th class=\"col_heading level0 col7\" >release_year</th> \n",
       "        <th class=\"col_heading level0 col8\" >budget_adj</th> \n",
       "        <th class=\"col_heading level0 col9\" >revenue_adj</th> \n",
       "    </tr></thead> \n",
       "<tbody>    <tr> \n",
       "        <th id=\"T_8f3dea46_c9ea_11e7_a1b9_720005ca96a0level0_row0\" class=\"row_heading level0 row0\" >id</th> \n",
       "        <td id=\"T_8f3dea46_c9ea_11e7_a1b9_720005ca96a0row0_col0\" class=\"data row0 col0\" >1</td> \n",
       "        <td id=\"T_8f3dea46_c9ea_11e7_a1b9_720005ca96a0row0_col1\" class=\"data row0 col1\" >-0.014</td> \n",
       "        <td id=\"T_8f3dea46_c9ea_11e7_a1b9_720005ca96a0row0_col2\" class=\"data row0 col2\" >-0.14</td> \n",
       "        <td id=\"T_8f3dea46_c9ea_11e7_a1b9_720005ca96a0row0_col3\" class=\"data row0 col3\" >-0.099</td> \n",
       "        <td id=\"T_8f3dea46_c9ea_11e7_a1b9_720005ca96a0row0_col4\" class=\"data row0 col4\" >-0.088</td> \n",
       "        <td id=\"T_8f3dea46_c9ea_11e7_a1b9_720005ca96a0row0_col5\" class=\"data row0 col5\" >-0.036</td> \n",
       "        <td id=\"T_8f3dea46_c9ea_11e7_a1b9_720005ca96a0row0_col6\" class=\"data row0 col6\" >-0.058</td> \n",
       "        <td id=\"T_8f3dea46_c9ea_11e7_a1b9_720005ca96a0row0_col7\" class=\"data row0 col7\" >0.51</td> \n",
       "        <td id=\"T_8f3dea46_c9ea_11e7_a1b9_720005ca96a0row0_col8\" class=\"data row0 col8\" >-0.19</td> \n",
       "        <td id=\"T_8f3dea46_c9ea_11e7_a1b9_720005ca96a0row0_col9\" class=\"data row0 col9\" >-0.14</td> \n",
       "    </tr>    <tr> \n",
       "        <th id=\"T_8f3dea46_c9ea_11e7_a1b9_720005ca96a0level0_row1\" class=\"row_heading level0 row1\" >popularity</th> \n",
       "        <td id=\"T_8f3dea46_c9ea_11e7_a1b9_720005ca96a0row1_col0\" class=\"data row1 col0\" >-0.014</td> \n",
       "        <td id=\"T_8f3dea46_c9ea_11e7_a1b9_720005ca96a0row1_col1\" class=\"data row1 col1\" >1</td> \n",
       "        <td id=\"T_8f3dea46_c9ea_11e7_a1b9_720005ca96a0row1_col2\" class=\"data row1 col2\" >0.55</td> \n",
       "        <td id=\"T_8f3dea46_c9ea_11e7_a1b9_720005ca96a0row1_col3\" class=\"data row1 col3\" >0.66</td> \n",
       "        <td id=\"T_8f3dea46_c9ea_11e7_a1b9_720005ca96a0row1_col4\" class=\"data row1 col4\" >0.14</td> \n",
       "        <td id=\"T_8f3dea46_c9ea_11e7_a1b9_720005ca96a0row1_col5\" class=\"data row1 col5\" >0.8</td> \n",
       "        <td id=\"T_8f3dea46_c9ea_11e7_a1b9_720005ca96a0row1_col6\" class=\"data row1 col6\" >0.21</td> \n",
       "        <td id=\"T_8f3dea46_c9ea_11e7_a1b9_720005ca96a0row1_col7\" class=\"data row1 col7\" >0.09</td> \n",
       "        <td id=\"T_8f3dea46_c9ea_11e7_a1b9_720005ca96a0row1_col8\" class=\"data row1 col8\" >0.51</td> \n",
       "        <td id=\"T_8f3dea46_c9ea_11e7_a1b9_720005ca96a0row1_col9\" class=\"data row1 col9\" >0.61</td> \n",
       "    </tr>    <tr> \n",
       "        <th id=\"T_8f3dea46_c9ea_11e7_a1b9_720005ca96a0level0_row2\" class=\"row_heading level0 row2\" >budget</th> \n",
       "        <td id=\"T_8f3dea46_c9ea_11e7_a1b9_720005ca96a0row2_col0\" class=\"data row2 col0\" >-0.14</td> \n",
       "        <td id=\"T_8f3dea46_c9ea_11e7_a1b9_720005ca96a0row2_col1\" class=\"data row2 col1\" >0.55</td> \n",
       "        <td id=\"T_8f3dea46_c9ea_11e7_a1b9_720005ca96a0row2_col2\" class=\"data row2 col2\" >1</td> \n",
       "        <td id=\"T_8f3dea46_c9ea_11e7_a1b9_720005ca96a0row2_col3\" class=\"data row2 col3\" >0.73</td> \n",
       "        <td id=\"T_8f3dea46_c9ea_11e7_a1b9_720005ca96a0row2_col4\" class=\"data row2 col4\" >0.19</td> \n",
       "        <td id=\"T_8f3dea46_c9ea_11e7_a1b9_720005ca96a0row2_col5\" class=\"data row2 col5\" >0.63</td> \n",
       "        <td id=\"T_8f3dea46_c9ea_11e7_a1b9_720005ca96a0row2_col6\" class=\"data row2 col6\" >0.081</td> \n",
       "        <td id=\"T_8f3dea46_c9ea_11e7_a1b9_720005ca96a0row2_col7\" class=\"data row2 col7\" >0.12</td> \n",
       "        <td id=\"T_8f3dea46_c9ea_11e7_a1b9_720005ca96a0row2_col8\" class=\"data row2 col8\" >0.97</td> \n",
       "        <td id=\"T_8f3dea46_c9ea_11e7_a1b9_720005ca96a0row2_col9\" class=\"data row2 col9\" >0.62</td> \n",
       "    </tr>    <tr> \n",
       "        <th id=\"T_8f3dea46_c9ea_11e7_a1b9_720005ca96a0level0_row3\" class=\"row_heading level0 row3\" >revenue</th> \n",
       "        <td id=\"T_8f3dea46_c9ea_11e7_a1b9_720005ca96a0row3_col0\" class=\"data row3 col0\" >-0.099</td> \n",
       "        <td id=\"T_8f3dea46_c9ea_11e7_a1b9_720005ca96a0row3_col1\" class=\"data row3 col1\" >0.66</td> \n",
       "        <td id=\"T_8f3dea46_c9ea_11e7_a1b9_720005ca96a0row3_col2\" class=\"data row3 col2\" >0.73</td> \n",
       "        <td id=\"T_8f3dea46_c9ea_11e7_a1b9_720005ca96a0row3_col3\" class=\"data row3 col3\" >1</td> \n",
       "        <td id=\"T_8f3dea46_c9ea_11e7_a1b9_720005ca96a0row3_col4\" class=\"data row3 col4\" >0.16</td> \n",
       "        <td id=\"T_8f3dea46_c9ea_11e7_a1b9_720005ca96a0row3_col5\" class=\"data row3 col5\" >0.79</td> \n",
       "        <td id=\"T_8f3dea46_c9ea_11e7_a1b9_720005ca96a0row3_col6\" class=\"data row3 col6\" >0.17</td> \n",
       "        <td id=\"T_8f3dea46_c9ea_11e7_a1b9_720005ca96a0row3_col7\" class=\"data row3 col7\" >0.057</td> \n",
       "        <td id=\"T_8f3dea46_c9ea_11e7_a1b9_720005ca96a0row3_col8\" class=\"data row3 col8\" >0.71</td> \n",
       "        <td id=\"T_8f3dea46_c9ea_11e7_a1b9_720005ca96a0row3_col9\" class=\"data row3 col9\" >0.92</td> \n",
       "    </tr>    <tr> \n",
       "        <th id=\"T_8f3dea46_c9ea_11e7_a1b9_720005ca96a0level0_row4\" class=\"row_heading level0 row4\" >runtime</th> \n",
       "        <td id=\"T_8f3dea46_c9ea_11e7_a1b9_720005ca96a0row4_col0\" class=\"data row4 col0\" >-0.088</td> \n",
       "        <td id=\"T_8f3dea46_c9ea_11e7_a1b9_720005ca96a0row4_col1\" class=\"data row4 col1\" >0.14</td> \n",
       "        <td id=\"T_8f3dea46_c9ea_11e7_a1b9_720005ca96a0row4_col2\" class=\"data row4 col2\" >0.19</td> \n",
       "        <td id=\"T_8f3dea46_c9ea_11e7_a1b9_720005ca96a0row4_col3\" class=\"data row4 col3\" >0.16</td> \n",
       "        <td id=\"T_8f3dea46_c9ea_11e7_a1b9_720005ca96a0row4_col4\" class=\"data row4 col4\" >1</td> \n",
       "        <td id=\"T_8f3dea46_c9ea_11e7_a1b9_720005ca96a0row4_col5\" class=\"data row4 col5\" >0.16</td> \n",
       "        <td id=\"T_8f3dea46_c9ea_11e7_a1b9_720005ca96a0row4_col6\" class=\"data row4 col6\" >0.16</td> \n",
       "        <td id=\"T_8f3dea46_c9ea_11e7_a1b9_720005ca96a0row4_col7\" class=\"data row4 col7\" >-0.12</td> \n",
       "        <td id=\"T_8f3dea46_c9ea_11e7_a1b9_720005ca96a0row4_col8\" class=\"data row4 col8\" >0.22</td> \n",
       "        <td id=\"T_8f3dea46_c9ea_11e7_a1b9_720005ca96a0row4_col9\" class=\"data row4 col9\" >0.18</td> \n",
       "    </tr>    <tr> \n",
       "        <th id=\"T_8f3dea46_c9ea_11e7_a1b9_720005ca96a0level0_row5\" class=\"row_heading level0 row5\" >vote_count</th> \n",
       "        <td id=\"T_8f3dea46_c9ea_11e7_a1b9_720005ca96a0row5_col0\" class=\"data row5 col0\" >-0.036</td> \n",
       "        <td id=\"T_8f3dea46_c9ea_11e7_a1b9_720005ca96a0row5_col1\" class=\"data row5 col1\" >0.8</td> \n",
       "        <td id=\"T_8f3dea46_c9ea_11e7_a1b9_720005ca96a0row5_col2\" class=\"data row5 col2\" >0.63</td> \n",
       "        <td id=\"T_8f3dea46_c9ea_11e7_a1b9_720005ca96a0row5_col3\" class=\"data row5 col3\" >0.79</td> \n",
       "        <td id=\"T_8f3dea46_c9ea_11e7_a1b9_720005ca96a0row5_col4\" class=\"data row5 col4\" >0.16</td> \n",
       "        <td id=\"T_8f3dea46_c9ea_11e7_a1b9_720005ca96a0row5_col5\" class=\"data row5 col5\" >1</td> \n",
       "        <td id=\"T_8f3dea46_c9ea_11e7_a1b9_720005ca96a0row5_col6\" class=\"data row5 col6\" >0.25</td> \n",
       "        <td id=\"T_8f3dea46_c9ea_11e7_a1b9_720005ca96a0row5_col7\" class=\"data row5 col7\" >0.11</td> \n",
       "        <td id=\"T_8f3dea46_c9ea_11e7_a1b9_720005ca96a0row5_col8\" class=\"data row5 col8\" >0.59</td> \n",
       "        <td id=\"T_8f3dea46_c9ea_11e7_a1b9_720005ca96a0row5_col9\" class=\"data row5 col9\" >0.71</td> \n",
       "    </tr>    <tr> \n",
       "        <th id=\"T_8f3dea46_c9ea_11e7_a1b9_720005ca96a0level0_row6\" class=\"row_heading level0 row6\" >vote_average</th> \n",
       "        <td id=\"T_8f3dea46_c9ea_11e7_a1b9_720005ca96a0row6_col0\" class=\"data row6 col0\" >-0.058</td> \n",
       "        <td id=\"T_8f3dea46_c9ea_11e7_a1b9_720005ca96a0row6_col1\" class=\"data row6 col1\" >0.21</td> \n",
       "        <td id=\"T_8f3dea46_c9ea_11e7_a1b9_720005ca96a0row6_col2\" class=\"data row6 col2\" >0.081</td> \n",
       "        <td id=\"T_8f3dea46_c9ea_11e7_a1b9_720005ca96a0row6_col3\" class=\"data row6 col3\" >0.17</td> \n",
       "        <td id=\"T_8f3dea46_c9ea_11e7_a1b9_720005ca96a0row6_col4\" class=\"data row6 col4\" >0.16</td> \n",
       "        <td id=\"T_8f3dea46_c9ea_11e7_a1b9_720005ca96a0row6_col5\" class=\"data row6 col5\" >0.25</td> \n",
       "        <td id=\"T_8f3dea46_c9ea_11e7_a1b9_720005ca96a0row6_col6\" class=\"data row6 col6\" >1</td> \n",
       "        <td id=\"T_8f3dea46_c9ea_11e7_a1b9_720005ca96a0row6_col7\" class=\"data row6 col7\" >-0.12</td> \n",
       "        <td id=\"T_8f3dea46_c9ea_11e7_a1b9_720005ca96a0row6_col8\" class=\"data row6 col8\" >0.093</td> \n",
       "        <td id=\"T_8f3dea46_c9ea_11e7_a1b9_720005ca96a0row6_col9\" class=\"data row6 col9\" >0.19</td> \n",
       "    </tr>    <tr> \n",
       "        <th id=\"T_8f3dea46_c9ea_11e7_a1b9_720005ca96a0level0_row7\" class=\"row_heading level0 row7\" >release_year</th> \n",
       "        <td id=\"T_8f3dea46_c9ea_11e7_a1b9_720005ca96a0row7_col0\" class=\"data row7 col0\" >0.51</td> \n",
       "        <td id=\"T_8f3dea46_c9ea_11e7_a1b9_720005ca96a0row7_col1\" class=\"data row7 col1\" >0.09</td> \n",
       "        <td id=\"T_8f3dea46_c9ea_11e7_a1b9_720005ca96a0row7_col2\" class=\"data row7 col2\" >0.12</td> \n",
       "        <td id=\"T_8f3dea46_c9ea_11e7_a1b9_720005ca96a0row7_col3\" class=\"data row7 col3\" >0.057</td> \n",
       "        <td id=\"T_8f3dea46_c9ea_11e7_a1b9_720005ca96a0row7_col4\" class=\"data row7 col4\" >-0.12</td> \n",
       "        <td id=\"T_8f3dea46_c9ea_11e7_a1b9_720005ca96a0row7_col5\" class=\"data row7 col5\" >0.11</td> \n",
       "        <td id=\"T_8f3dea46_c9ea_11e7_a1b9_720005ca96a0row7_col6\" class=\"data row7 col6\" >-0.12</td> \n",
       "        <td id=\"T_8f3dea46_c9ea_11e7_a1b9_720005ca96a0row7_col7\" class=\"data row7 col7\" >1</td> \n",
       "        <td id=\"T_8f3dea46_c9ea_11e7_a1b9_720005ca96a0row7_col8\" class=\"data row7 col8\" >0.017</td> \n",
       "        <td id=\"T_8f3dea46_c9ea_11e7_a1b9_720005ca96a0row7_col9\" class=\"data row7 col9\" >-0.066</td> \n",
       "    </tr>    <tr> \n",
       "        <th id=\"T_8f3dea46_c9ea_11e7_a1b9_720005ca96a0level0_row8\" class=\"row_heading level0 row8\" >budget_adj</th> \n",
       "        <td id=\"T_8f3dea46_c9ea_11e7_a1b9_720005ca96a0row8_col0\" class=\"data row8 col0\" >-0.19</td> \n",
       "        <td id=\"T_8f3dea46_c9ea_11e7_a1b9_720005ca96a0row8_col1\" class=\"data row8 col1\" >0.51</td> \n",
       "        <td id=\"T_8f3dea46_c9ea_11e7_a1b9_720005ca96a0row8_col2\" class=\"data row8 col2\" >0.97</td> \n",
       "        <td id=\"T_8f3dea46_c9ea_11e7_a1b9_720005ca96a0row8_col3\" class=\"data row8 col3\" >0.71</td> \n",
       "        <td id=\"T_8f3dea46_c9ea_11e7_a1b9_720005ca96a0row8_col4\" class=\"data row8 col4\" >0.22</td> \n",
       "        <td id=\"T_8f3dea46_c9ea_11e7_a1b9_720005ca96a0row8_col5\" class=\"data row8 col5\" >0.59</td> \n",
       "        <td id=\"T_8f3dea46_c9ea_11e7_a1b9_720005ca96a0row8_col6\" class=\"data row8 col6\" >0.093</td> \n",
       "        <td id=\"T_8f3dea46_c9ea_11e7_a1b9_720005ca96a0row8_col7\" class=\"data row8 col7\" >0.017</td> \n",
       "        <td id=\"T_8f3dea46_c9ea_11e7_a1b9_720005ca96a0row8_col8\" class=\"data row8 col8\" >1</td> \n",
       "        <td id=\"T_8f3dea46_c9ea_11e7_a1b9_720005ca96a0row8_col9\" class=\"data row8 col9\" >0.65</td> \n",
       "    </tr>    <tr> \n",
       "        <th id=\"T_8f3dea46_c9ea_11e7_a1b9_720005ca96a0level0_row9\" class=\"row_heading level0 row9\" >revenue_adj</th> \n",
       "        <td id=\"T_8f3dea46_c9ea_11e7_a1b9_720005ca96a0row9_col0\" class=\"data row9 col0\" >-0.14</td> \n",
       "        <td id=\"T_8f3dea46_c9ea_11e7_a1b9_720005ca96a0row9_col1\" class=\"data row9 col1\" >0.61</td> \n",
       "        <td id=\"T_8f3dea46_c9ea_11e7_a1b9_720005ca96a0row9_col2\" class=\"data row9 col2\" >0.62</td> \n",
       "        <td id=\"T_8f3dea46_c9ea_11e7_a1b9_720005ca96a0row9_col3\" class=\"data row9 col3\" >0.92</td> \n",
       "        <td id=\"T_8f3dea46_c9ea_11e7_a1b9_720005ca96a0row9_col4\" class=\"data row9 col4\" >0.18</td> \n",
       "        <td id=\"T_8f3dea46_c9ea_11e7_a1b9_720005ca96a0row9_col5\" class=\"data row9 col5\" >0.71</td> \n",
       "        <td id=\"T_8f3dea46_c9ea_11e7_a1b9_720005ca96a0row9_col6\" class=\"data row9 col6\" >0.19</td> \n",
       "        <td id=\"T_8f3dea46_c9ea_11e7_a1b9_720005ca96a0row9_col7\" class=\"data row9 col7\" >-0.066</td> \n",
       "        <td id=\"T_8f3dea46_c9ea_11e7_a1b9_720005ca96a0row9_col8\" class=\"data row9 col8\" >0.65</td> \n",
       "        <td id=\"T_8f3dea46_c9ea_11e7_a1b9_720005ca96a0row9_col9\" class=\"data row9 col9\" >1</td> \n",
       "    </tr></tbody> \n",
       "</table> "
      ],
      "text/plain": [
       "<pandas.io.formats.style.Styler at 0x1a2f07e208>"
      ]
     },
     "execution_count": 108,
     "metadata": {},
     "output_type": "execute_result"
    }
   ],
   "source": [
    "# heatmap ploting with helper function\n",
    "cmap = sns.diverging_palette(250, 10, n=3, as_cmap=True)\n",
    "\n",
    "def magnify():\n",
    "    return [dict(selector=\"th\",\n",
    "                 props=[(\"font-size\", \"7pt\")]),\n",
    "            dict(selector=\"td\",\n",
    "                 props=[('padding', \"0em 0em\")]),\n",
    "            dict(selector=\"th:hover\",\n",
    "                 props=[(\"font-size\", \"12pt\")]),\n",
    "            dict(selector=\"tr:hover td:hover\",\n",
    "                 props=[('max-width', '200px'),\n",
    "                        ('font-size', '12pt')])\n",
    "]\n",
    "\n",
    "corr.style.background_gradient(cmap, axis=1)\\\n",
    "    .set_properties(**{'max-width': '80px', 'font-size': '10pt'})\\\n",
    "    .set_caption(\"Hover to magify\")\\\n",
    "    .set_precision(2)\\\n",
    "    .set_table_styles(magnify())\n",
    "    "
   ]
  },
  {
   "cell_type": "markdown",
   "metadata": {},
   "source": [
    "When looking at the correlation between variables I found that a few of them showed some degree of correlation, for example:\n",
    "We can see that vote_count and popularity have 0.8 correlation, but it actually gives same information. Vote_count and revenue have 0.79 (strong correlation but weak information). budget and revenue have 0.73 (good correlation)."
   ]
  },
  {
   "cell_type": "markdown",
   "metadata": {},
   "source": [
    "### Questions to Consider\n",
    "\n",
    "I will look at the correlation between then revenue and the other variables in the dataset, and such questions to llok for are:\n",
    "\n",
    "1. Will the revenue be higher if a known director is involved?\n",
    "2. Does genre type of the film have a correlation to revenue?"
   ]
  },
  {
   "cell_type": "markdown",
   "metadata": {},
   "source": [
    "<a id='wrangling'></a>\n",
    "## 3. Data Wrangling\n",
    "\n",
    "### 3.1 General Properties"
   ]
  },
  {
   "cell_type": "code",
   "execution_count": 40,
   "metadata": {},
   "outputs": [
    {
     "name": "stdout",
     "output_type": "stream",
     "text": [
      "<class 'pandas.core.frame.DataFrame'>\n",
      "RangeIndex: 10866 entries, 0 to 10865\n",
      "Data columns (total 21 columns):\n",
      "id                      10866 non-null int64\n",
      "imdb_id                 10856 non-null object\n",
      "popularity              10866 non-null float64\n",
      "budget                  10866 non-null int64\n",
      "revenue                 10866 non-null int64\n",
      "original_title          10866 non-null object\n",
      "cast                    10790 non-null object\n",
      "homepage                2936 non-null object\n",
      "director                10822 non-null object\n",
      "tagline                 8042 non-null object\n",
      "keywords                9373 non-null object\n",
      "overview                10862 non-null object\n",
      "runtime                 10866 non-null int64\n",
      "genres                  10843 non-null object\n",
      "production_companies    9836 non-null object\n",
      "release_date            10866 non-null object\n",
      "vote_count              10866 non-null int64\n",
      "vote_average            10866 non-null float64\n",
      "release_year            10866 non-null int64\n",
      "budget_adj              10866 non-null float64\n",
      "revenue_adj             10866 non-null float64\n",
      "dtypes: float64(4), int64(6), object(11)\n",
      "memory usage: 1.7+ MB\n"
     ]
    }
   ],
   "source": [
    "# inspect data types \n",
    "tmdb_data.info()"
   ]
  },
  {
   "cell_type": "code",
   "execution_count": 41,
   "metadata": {},
   "outputs": [
    {
     "data": {
      "text/plain": [
       "1"
      ]
     },
     "execution_count": 41,
     "metadata": {},
     "output_type": "execute_result"
    }
   ],
   "source": [
    "# duplicate rows in the dataset\n",
    "sum(tmdb_data.duplicated())"
   ]
  },
  {
   "cell_type": "code",
   "execution_count": 42,
   "metadata": {},
   "outputs": [
    {
     "data": {
      "text/plain": [
       "id                         0\n",
       "imdb_id                   10\n",
       "popularity                 0\n",
       "budget                     0\n",
       "revenue                    0\n",
       "original_title             0\n",
       "cast                      76\n",
       "homepage                7930\n",
       "director                  44\n",
       "tagline                 2824\n",
       "keywords                1493\n",
       "overview                   4\n",
       "runtime                    0\n",
       "genres                    23\n",
       "production_companies    1030\n",
       "release_date               0\n",
       "vote_count                 0\n",
       "vote_average               0\n",
       "release_year               0\n",
       "budget_adj                 0\n",
       "revenue_adj                0\n",
       "dtype: int64"
      ]
     },
     "execution_count": 42,
     "metadata": {},
     "output_type": "execute_result"
    }
   ],
   "source": [
    "# look for features with missing values\n",
    "tmdb_data.isnull().sum()"
   ]
  },
  {
   "cell_type": "markdown",
   "metadata": {},
   "source": [
    "### 3.2 Data Cleaning\n",
    "I will drop some columns that I think it is not important for my analysis (does not mean it is not important at all, but I will drop it for matter of this investigation), part of these variables are strings, And I will do more numerical computing analysis."
   ]
  },
  {
   "cell_type": "code",
   "execution_count": 43,
   "metadata": {
    "collapsed": true
   },
   "outputs": [],
   "source": [
    "# drop columns from the dataset\n",
    "tmdb_data.drop(['id', 'imdb_id', 'overview', 'homepage', 'tagline', 'keywords', 'production_companies'], axis=1, inplace=True)"
   ]
  },
  {
   "cell_type": "code",
   "execution_count": 44,
   "metadata": {},
   "outputs": [
    {
     "data": {
      "text/html": [
       "<div>\n",
       "<style>\n",
       "    .dataframe thead tr:only-child th {\n",
       "        text-align: right;\n",
       "    }\n",
       "\n",
       "    .dataframe thead th {\n",
       "        text-align: left;\n",
       "    }\n",
       "\n",
       "    .dataframe tbody tr th {\n",
       "        vertical-align: top;\n",
       "    }\n",
       "</style>\n",
       "<table border=\"1\" class=\"dataframe\">\n",
       "  <thead>\n",
       "    <tr style=\"text-align: right;\">\n",
       "      <th></th>\n",
       "      <th>popularity</th>\n",
       "      <th>budget</th>\n",
       "      <th>revenue</th>\n",
       "      <th>original_title</th>\n",
       "      <th>cast</th>\n",
       "      <th>director</th>\n",
       "      <th>runtime</th>\n",
       "      <th>genres</th>\n",
       "      <th>release_date</th>\n",
       "      <th>vote_count</th>\n",
       "      <th>vote_average</th>\n",
       "      <th>release_year</th>\n",
       "      <th>budget_adj</th>\n",
       "      <th>revenue_adj</th>\n",
       "    </tr>\n",
       "  </thead>\n",
       "  <tbody>\n",
       "    <tr>\n",
       "      <th>0</th>\n",
       "      <td>32.985763</td>\n",
       "      <td>150000000</td>\n",
       "      <td>1513528810</td>\n",
       "      <td>Jurassic World</td>\n",
       "      <td>Chris Pratt|Bryce Dallas Howard|Irrfan Khan|Vi...</td>\n",
       "      <td>Colin Trevorrow</td>\n",
       "      <td>124</td>\n",
       "      <td>Action|Adventure|Science Fiction|Thriller</td>\n",
       "      <td>6/9/15</td>\n",
       "      <td>5562</td>\n",
       "      <td>6.5</td>\n",
       "      <td>2015</td>\n",
       "      <td>1.379999e+08</td>\n",
       "      <td>1.392446e+09</td>\n",
       "    </tr>\n",
       "  </tbody>\n",
       "</table>\n",
       "</div>"
      ],
      "text/plain": [
       "   popularity     budget     revenue  original_title  \\\n",
       "0   32.985763  150000000  1513528810  Jurassic World   \n",
       "\n",
       "                                                cast         director  \\\n",
       "0  Chris Pratt|Bryce Dallas Howard|Irrfan Khan|Vi...  Colin Trevorrow   \n",
       "\n",
       "   runtime                                     genres release_date  \\\n",
       "0      124  Action|Adventure|Science Fiction|Thriller       6/9/15   \n",
       "\n",
       "   vote_count  vote_average  release_year    budget_adj   revenue_adj  \n",
       "0        5562           6.5          2015  1.379999e+08  1.392446e+09  "
      ]
     },
     "execution_count": 44,
     "metadata": {},
     "output_type": "execute_result"
    }
   ],
   "source": [
    "# confirm changes\n",
    "tmdb_data.head(1)"
   ]
  },
  {
   "cell_type": "code",
   "execution_count": 45,
   "metadata": {},
   "outputs": [
    {
     "data": {
      "text/plain": [
       "(10866, 14)"
      ]
     },
     "execution_count": 45,
     "metadata": {},
     "output_type": "execute_result"
    }
   ],
   "source": [
    "# remaining variables\n",
    "tmdb_data.shape"
   ]
  },
  {
   "cell_type": "markdown",
   "metadata": {},
   "source": [
    "We have now 14 variables."
   ]
  },
  {
   "cell_type": "code",
   "execution_count": 47,
   "metadata": {
    "collapsed": true
   },
   "outputs": [],
   "source": [
    "# drop rows with any null values in the datasets\n",
    "tmdb_data.dropna(how='any',axis=0, inplace=True) "
   ]
  },
  {
   "cell_type": "code",
   "execution_count": 48,
   "metadata": {},
   "outputs": [
    {
     "data": {
      "text/plain": [
       "False"
      ]
     },
     "execution_count": 48,
     "metadata": {},
     "output_type": "execute_result"
    }
   ],
   "source": [
    "# checks if any of columns in the dataset have null values \n",
    "tmdb_data.isnull().sum().any()"
   ]
  },
  {
   "cell_type": "code",
   "execution_count": 49,
   "metadata": {
    "collapsed": true
   },
   "outputs": [],
   "source": [
    "# drop duplicates in the datasets\n",
    "tmdb_data.drop_duplicates(inplace=True)"
   ]
  },
  {
   "cell_type": "code",
   "execution_count": 50,
   "metadata": {},
   "outputs": [
    {
     "data": {
      "text/plain": [
       "0"
      ]
     },
     "execution_count": 50,
     "metadata": {},
     "output_type": "execute_result"
    }
   ],
   "source": [
    "# print number of duplicates again to confirm dedupe\n",
    "sum(tmdb_data.duplicated())"
   ]
  },
  {
   "cell_type": "markdown",
   "metadata": {},
   "source": [
    "<a id='eda'></a>\n",
    "## 4. Exploratory Data Analysis\n",
    "### Research Question  (exploring revenue based on different variables)\n",
    "\n",
    "In this section, I will explore the revenue and it's pattern using different variables."
   ]
  },
  {
   "cell_type": "code",
   "execution_count": 51,
   "metadata": {},
   "outputs": [
    {
     "data": {
      "text/plain": [
       "director\n",
       "Steven Spielberg     9018563772\n",
       "Peter Jackson        6523244659\n",
       "James Cameron        5841894863\n",
       "Michael Bay          4917208171\n",
       "Christopher Nolan    4167548502\n",
       "David Yates          4154295625\n",
       "Robert Zemeckis      3869690869\n",
       "Chris Columbus       3851491668\n",
       "Tim Burton           3665414624\n",
       "Ridley Scott         3649996480\n",
       "J.J. Abrams          3579169916\n",
       "Gore Verbinski       3548779679\n",
       "Ron Howard           3484471847\n",
       "Roland Emmerich      3393325574\n",
       "George Lucas         3316550893\n",
       "Sam Raimi            3193820360\n",
       "Francis Lawrence     3179979588\n",
       "Joss Whedon          2963463144\n",
       "Clint Eastwood       2824871255\n",
       "Sam Mendes           2713548809\n",
       "Name: revenue, dtype: int64"
      ]
     },
     "execution_count": 51,
     "metadata": {},
     "output_type": "execute_result"
    }
   ],
   "source": [
    "# Grouping by director and revenue \n",
    "revenue_by_director = tmdb_data.groupby('director')['revenue'].sum()\n",
    "revenue_by_director.sort_values(ascending=False).head(20)"
   ]
  },
  {
   "cell_type": "code",
   "execution_count": 105,
   "metadata": {},
   "outputs": [
    {
     "data": {
      "text/plain": [
       "Text(0,0.5,'revenue')"
      ]
     },
     "execution_count": 105,
     "metadata": {},
     "output_type": "execute_result"
    },
    {
     "data": {
      "image/png": "[encoded data removed]",
      "text/plain": [
       "<matplotlib.figure.Figure at 0x1a2e401320>"
      ]
     },
     "metadata": {},
     "output_type": "display_data"
    }
   ],
   "source": [
    "# ploting the directors and their revenue\n",
    "revenue_by_director = pd.DataFrame(revenue_by_director)\n",
    "revenue_by_director = revenue_by_director.sort_values(by = ['revenue'], ascending = False)\n",
    "revenue_by_director[:10].plot(kind = 'bar')\n",
    "plt.title('Revenue of top directors')\n",
    "plt.xlabel('directors')\n",
    "plt.ylabel('revenue')"
   ]
  },
  {
   "cell_type": "markdown",
   "metadata": {},
   "source": [
    "We can see that some director generates more revenue than others."
   ]
  },
  {
   "cell_type": "code",
   "execution_count": 56,
   "metadata": {},
   "outputs": [
    {
     "data": {
      "text/plain": [
       "cast\n",
       "Elijah Wood|Ian McKellen|Viggo Mortensen|Liv Tyler|Orlando Bloom                    2916544743\n",
       "Sam Worthington|Zoe Saldana|Sigourney Weaver|Stephen Lang|Michelle Rodriguez        2781505847\n",
       "Jennifer Lawrence|Josh Hutcherson|Liam Hemsworth|Woody Harrelson|Elizabeth Banks    2189157571\n",
       "Harrison Ford|Mark Hamill|Carrie Fisher|Adam Driver|Daisy Ridley                    2068178225\n",
       "Martin Freeman|Ian McKellen|Richard Armitage|Ken Stott|Graham McTavish              1913519788\n",
       "Kate Winslet|Leonardo DiCaprio|Frances Fisher|Billy Zane|Kathy Bates                1845034188\n",
       "Mike Myers|Eddie Murphy|Cameron Diaz|Julie Andrews|Antonio Banderas                 1718796923\n",
       "Robert Downey Jr.|Chris Evans|Mark Ruffalo|Chris Hemsworth|Scarlett Johansson       1519557910\n",
       "Chris Pratt|Bryce Dallas Howard|Irrfan Khan|Vincent D'Onofrio|Nick Robinson         1513528810\n",
       "Vin Diesel|Paul Walker|Jason Statham|Michelle Rodriguez|Dwayne Johnson              1506249360\n",
       "Ewan McGregor|Natalie Portman|Hayden Christensen|Ian McDiarmid|Samuel L. Jackson    1499398328\n",
       "Kristen Stewart|Robert Pattinson|Taylor Lautner|Ashley Greene|Peter Facinelli       1410663203\n",
       "Robert Downey Jr.|Chris Hemsworth|Mark Ruffalo|Chris Evans|Scarlett Johansson       1405035767\n",
       "Daniel Radcliffe|Rupert Grint|Emma Watson|Alan Rickman|Maggie Smith                 1327817822\n",
       "Kristen Bell|Idina Menzel|Jonathan Groff|Josh Gad|Santino Fontana                   1274219009\n",
       "Robert Downey Jr.|Gwyneth Paltrow|Guy Pearce|Don Cheadle|Ben Kingsley               1215439994\n",
       "Sandra Bullock|Jon Hamm|Michael Keaton|Allison Janney|Steve Coogan                  1156730962\n",
       "Shia LaBeouf|John Malkovich|Ken Jeong|Frances McDormand|Josh Duhamel                1123746996\n",
       "Mark Hamill|Harrison Ford|Carrie Fisher|Billy Dee Williams|Anthony Daniels          1111100000\n",
       "Daniel Craig|Judi Dench|Javier Bardem|Ralph Fiennes|Naomie Harris                   1108561013\n",
       "Name: revenue, dtype: int64"
      ]
     },
     "execution_count": 56,
     "metadata": {},
     "output_type": "execute_result"
    }
   ],
   "source": [
    "# Grouping by cast and revenue \n",
    "revenue_by_cast = tmdb_data.groupby('cast')['revenue'].sum()\n",
    "revenue_by_cast.sort_values(ascending=False).head(20)"
   ]
  },
  {
   "cell_type": "markdown",
   "metadata": {},
   "source": [
    "If we have single (star) actor as a variable, that would help to estimate his impact on the revenue, but since here we have combination of actors, there is no way to find out."
   ]
  },
  {
   "cell_type": "code",
   "execution_count": 98,
   "metadata": {},
   "outputs": [
    {
     "data": {
      "text/plain": [
       "original_title\n",
       "Avatar                                           2781505847\n",
       "Star Wars: The Force Awakens                     2068178225\n",
       "Titanic                                          1845034188\n",
       "The Avengers                                     1568080742\n",
       "Jurassic World                                   1513528810\n",
       "Furious 7                                        1506249360\n",
       "Avengers: Age of Ultron                          1405035767\n",
       "Harry Potter and the Deathly Hallows: Part 2     1327817822\n",
       "Frozen                                           1277284869\n",
       "Iron Man 3                                       1215439994\n",
       "Minions                                          1156730962\n",
       "Transformers: Dark of the Moon                   1123746996\n",
       "The Lord of the Rings: The Return of the King    1118888979\n",
       "Skyfall                                          1108561013\n",
       "The Net                                          1106279658\n",
       "The Dark Knight Rises                            1081041287\n",
       "Pirates of the Caribbean: Dead Man's Chest       1065659812\n",
       "Toy Story 3                                      1063171911\n",
       "Alice in Wonderland                              1025467110\n",
       "Pirates of the Caribbean: On Stranger Tides      1021683000\n",
       "Name: revenue, dtype: int64"
      ]
     },
     "execution_count": 98,
     "metadata": {},
     "output_type": "execute_result"
    }
   ],
   "source": [
    "# Grouping by title and revenue \n",
    "revenue_by_title = tmdb_data.groupby('original_title')['revenue'].sum()\n",
    "revenue_by_title.sort_values(ascending=False).head(20)"
   ]
  },
  {
   "cell_type": "code",
   "execution_count": 109,
   "metadata": {},
   "outputs": [
    {
     "data": {
      "text/plain": [
       "Text(0,0.5,'movie title')"
      ]
     },
     "execution_count": 109,
     "metadata": {},
     "output_type": "execute_result"
    },
    {
     "data": {
      "image/png": "[encoded data removed]",
      "text/plain": [
       "<matplotlib.figure.Figure at 0x1a258912b0>"
      ]
     },
     "metadata": {},
     "output_type": "display_data"
    }
   ],
   "source": [
    "# ploting the top revenue\n",
    "revenue_by_title = pd.DataFrame(revenue_by_title)\n",
    "revenue_by_title = revenue_by_title.sort_values(by = ['revenue'], ascending = False)\n",
    "revenue_by_title[:10].plot(kind = 'barh')\n",
    "plt.title('Revenue of top movies')\n",
    "plt.xlabel('revenue')\n",
    "plt.ylabel('movie title')"
   ]
  },
  {
   "cell_type": "markdown",
   "metadata": {},
   "source": [
    "We can observe that Steven Spielberg (who has 9018563772 as total revenue) movies are not in the top movies revenue."
   ]
  },
  {
   "cell_type": "code",
   "execution_count": 76,
   "metadata": {},
   "outputs": [
    {
     "data": {
      "text/plain": [
       "genres\n",
       "Comedy                                      20323889661\n",
       "Drama                                       15107533347\n",
       "Comedy|Romance                              11545724341\n",
       "Adventure|Fantasy|Action                     7597483556\n",
       "Comedy|Drama|Romance                         7251175696\n",
       "Drama|Romance                                6798112125\n",
       "Animation|Family                             6701726154\n",
       "Action|Adventure|Science Fiction             6420484308\n",
       "Adventure|Fantasy|Family                     6079516484\n",
       "Adventure|Action|Science Fiction             5256276988\n",
       "Adventure|Action|Thriller                    5208443468\n",
       "Action|Thriller                              4942991441\n",
       "Action|Adventure|Fantasy|Science Fiction     4928441131\n",
       "Comedy|Drama                                 4851894696\n",
       "Animation|Comedy|Family                      4559034000\n",
       "Science Fiction|Action|Adventure             4073416568\n",
       "Horror|Thriller                              3915491988\n",
       "Action|Crime|Thriller                        3909830814\n",
       "Action|Adventure|Thriller                    3694968209\n",
       "Comedy|Family                                3534054436\n",
       "Name: revenue, dtype: int64"
      ]
     },
     "execution_count": 76,
     "metadata": {},
     "output_type": "execute_result"
    }
   ],
   "source": [
    "# Grouping by genres and revenue \n",
    "revenue_by_genres = tmdb_data.groupby('genres')['revenue'].sum()\n",
    "revenue_by_genres.sort_values(ascending=False).head(20)"
   ]
  },
  {
   "cell_type": "markdown",
   "metadata": {},
   "source": [
    "It turns out that Comedy movies are the most profitable movies (LOL)."
   ]
  },
  {
   "cell_type": "code",
   "execution_count": 77,
   "metadata": {
    "collapsed": true
   },
   "outputs": [],
   "source": [
    "# Finding out how movies are rated and counting how many visually \n",
    "movies_rating = tmdb_data.groupby(['vote_average'])['original_title'].count()"
   ]
  },
  {
   "cell_type": "code",
   "execution_count": 111,
   "metadata": {},
   "outputs": [
    {
     "data": {
      "text/plain": [
       "Text(0,0.5,'movies count')"
      ]
     },
     "execution_count": 111,
     "metadata": {},
     "output_type": "execute_result"
    },
    {
     "data": {
      "image/png": "[encoded data removed]",
      "text/plain": [
       "<matplotlib.figure.Figure at 0x1a319a40b8>"
      ]
     },
     "metadata": {},
     "output_type": "display_data"
    }
   ],
   "source": [
    "movies_rating.plot()\n",
    "plt.title('average votes of the movies')\n",
    "plt.xlabel('vote average')\n",
    "plt.ylabel('movies count')"
   ]
  },
  {
   "cell_type": "code",
   "execution_count": 112,
   "metadata": {
    "collapsed": true
   },
   "outputs": [],
   "source": [
    "# counting out how movies per year\n",
    "movies_per_year = tmdb_data.groupby(['release_year'])['original_title'].count()"
   ]
  },
  {
   "cell_type": "code",
   "execution_count": 114,
   "metadata": {},
   "outputs": [
    {
     "data": {
      "text/plain": [
       "Text(0,0.5,'movies count')"
      ]
     },
     "execution_count": 114,
     "metadata": {},
     "output_type": "execute_result"
    },
    {
     "data": {
      "image/png": "[encoded data removed]",
      "text/plain": [
       "<matplotlib.figure.Figure at 0x1a2e3b0390>"
      ]
     },
     "metadata": {},
     "output_type": "display_data"
    }
   ],
   "source": [
    "movies_per_year.plot()\n",
    "plt.title('movies counts over years')\n",
    "plt.xlabel('year')\n",
    "plt.ylabel('movies count')"
   ]
  },
  {
   "cell_type": "code",
   "execution_count": 84,
   "metadata": {
    "collapsed": true
   },
   "outputs": [],
   "source": [
    "#  revenue over releasing year \n",
    "revenue_over_year = tmdb_data.groupby(['release_year'])['revenue'].sum()"
   ]
  },
  {
   "cell_type": "code",
   "execution_count": 115,
   "metadata": {},
   "outputs": [
    {
     "data": {
      "text/plain": [
       "Text(0,0.5,'revenue')"
      ]
     },
     "execution_count": 115,
     "metadata": {},
     "output_type": "execute_result"
    },
    {
     "data": {
      "image/png": "[encoded data removed]",
      "text/plain": [
       "<matplotlib.figure.Figure at 0x117449a20>"
      ]
     },
     "metadata": {},
     "output_type": "display_data"
    }
   ],
   "source": [
    "revenue_over_year.plot()\n",
    "plt.title('revenue over years')\n",
    "plt.xlabel('year')\n",
    "plt.ylabel('revenue')"
   ]
  },
  {
   "cell_type": "markdown",
   "metadata": {},
   "source": [
    "We can observe that the count of movies produced and the revenues increasing over time. "
   ]
  },
  {
   "cell_type": "markdown",
   "metadata": {},
   "source": [
    "<a id='conclusions'></a>\n",
    "## Conclusions\n",
    "\n",
    "We attempt in this investigation to analyze the relationships between the revenue and the other variables, and we found the revenue increasing over the years due to the increasing of the movies produced each year (both the count of the movies and the revenue are growing as the visuals illustrate). We analyzed the genre variable and the accumulated revenue of each genre, we found the comedy and drama are generated best revenue. we also analyzed directors variable in the light of revenue (Steven Spielberg was on the top) but his movies are not in the top movie's revenue (top movie was avatar which dircted by James Cameron who was third top on revenue). I tried to make this project as simple as possible, due to that the data needs more cleaning in order to ask and answer more complicated questions. \n",
    "\n",
    "The TMBD data are rich, we can derive important information and knowledge based on it, but there are too many corner to analyze and discover, which is not in the scope of this project). I think this data will be very promising for a machine learning project, by creating models that dive deeper into it to get nice and precise results and trends. "
   ]
  },
  {
   "cell_type": "code",
   "execution_count": null,
   "metadata": {
    "collapsed": true
   },
   "outputs": [],
   "source": []
  }
 ],
 "metadata": {
  "kernelspec": {
   "display_name": "Python [default]",
   "language": "python",
   "name": "python3"
  },
  "language_info": {
   "codemirror_mode": {
    "name": "ipython",
    "version": 3
   },
   "file_extension": ".py",
   "mimetype": "text/x-python",
   "name": "python",
   "nbconvert_exporter": "python",
   "pygments_lexer": "ipython3",
   "version": "3.6.2"
  }
 },
 "nbformat": 4,
 "nbformat_minor": 2
}
